{
 "cells": [
  {
   "cell_type": "code",
   "execution_count": null,
   "id": "453d416d",
   "metadata": {},
   "outputs": [],
   "source": [
    "import numpy as np\n",
    "import pandas as pd\n",
    "import matplotlib.pyplot as plt\n",
    "import seaborn as sns\n",
    "\n",
    "from sklearn.preprocessing import StandardScaler, OneHotEncoder\n",
    "from sklearn.compose import ColumnTransformer\n",
    "from sklearn.pipeline import Pipeline\n",
    "from sklearn.metrics import classification_report, confusion_matrix, roc_auc_score, f1_score, roc_curve, precision_recall_curve\n",
    "from sklearn.model_selection import train_test_split\n",
    "from sklearn.ensemble import IsolationForest\n",
    "from sklearn.svm import OneClassSVM\n",
    "\n",
    "import tensorflow as tf\n",
    "from tensorflow import keras\n",
    "from tensorflow.keras import layers\n",
    "from tensorflow.keras.models import Model\n",
    "\n",
    "from datasets import load_dataset\n"
   ]
  },
  {
   "cell_type": "code",
   "execution_count": null,
   "id": "73f33a51",
   "metadata": {},
   "outputs": [],
   "source": [
    "# Load NSL-KDD Dataset\n",
    "data = load_dataset(\"Mireu-Lab/NSL-KDD\")\n",
    "df_train = pd.DataFrame(data['train'])\n",
    "df_test = pd.DataFrame(data['test'])\n"
   ]
  },
  {
   "cell_type": "code",
   "execution_count": null,
   "id": "9b1445a7",
   "metadata": {},
   "outputs": [],
   "source": [
    "# Exploratory Data Analysis\n",
    "print(\"Train class distribution:\")\n",
    "print(df_train['class'].value_counts(normalize=True))\n",
    "\n",
    "print(\"\\nTest class distribution:\")\n",
    "print(df_test['class'].value_counts(normalize=True))\n",
    "\n",
    "numerical_cols = df_train.select_dtypes(include=np.number).columns.tolist()\n",
    "\n",
    "plt.figure(figsize=(12, 6))\n",
    "sns.boxplot(data=df_train[numerical_cols].sample(1000))\n",
    "plt.xticks(rotation=90)\n",
    "plt.title(\"Distribution of Numerical Features\")\n",
    "plt.show()\n"
   ]
  },
  {
   "cell_type": "code",
   "execution_count": null,
   "id": "332e0e70",
   "metadata": {},
   "outputs": [],
   "source": [
    "categorical_cols = ['protocol_type', 'service', 'flag']\n",
    "label_col = 'class'\n",
    "\n",
    "preprocessor = ColumnTransformer([\n",
    "    ('num', StandardScaler(), numerical_cols),\n",
    "    ('cat', OneHotEncoder(handle_unknown='ignore'), categorical_cols)\n",
    "])\n",
    "\n",
    "df_train_normal = df_train[df_train[label_col] == 'normal']\n",
    "X_train = preprocessor.fit_transform(df_train_normal.drop(columns=[label_col]))\n",
    "X_test = preprocessor.transform(df_test.drop(columns=[label_col]))\n",
    "y_test = df_test[label_col].apply(lambda x: 0 if x == 'normal' else 1).values\n"
   ]
  },
  {
   "cell_type": "code",
   "execution_count": null,
   "id": "1d16c3fc",
   "metadata": {},
   "outputs": [],
   "source": [
    "input_dim = X_train.shape[1]\n",
    "autoencoder = keras.Sequential([\n",
    "    layers.Input(shape=(input_dim,)),\n",
    "    layers.Dense(128, activation='relu'),\n",
    "    layers.Dense(64, activation='relu'),\n",
    "    layers.Dense(32, activation='relu'),\n",
    "    layers.Dense(64, activation='relu'),\n",
    "    layers.Dense(128, activation='relu'),\n",
    "    layers.Dense(input_dim, activation='linear')\n",
    "])\n",
    "autoencoder.compile(optimizer='adam', loss='mse')\n"
   ]
  },
  {
   "cell_type": "code",
   "execution_count": null,
   "id": "01565979",
   "metadata": {},
   "outputs": [],
   "source": [
    "history = autoencoder.fit(\n",
    "    X_train, X_train,\n",
    "    epochs=50,\n",
    "    batch_size=256,\n",
    "    validation_split=0.1,\n",
    "    verbose=1\n",
    ")\n"
   ]
  },
  {
   "cell_type": "code",
   "execution_count": null,
   "id": "6ca0883c",
   "metadata": {},
   "outputs": [],
   "source": [
    "X_test_pred = autoencoder.predict(X_test)\n",
    "mse = np.mean(np.square(X_test - X_test_pred), axis=1)\n",
    "\n",
    "best_f1 = 0\n",
    "best_threshold = None\n",
    "for z in np.arange(0.5, 3.0, 0.1):\n",
    "    t = mse[y_test == 0].mean() + z * mse[y_test == 0].std()\n",
    "    y_pred = (mse > t).astype(int)\n",
    "    f1 = f1_score(y_test, y_pred)\n",
    "    print(f\"Z={z:.1f}, Threshold={t:.5f}, F1 Score={f1:.4f}\")\n",
    "    if f1 > best_f1:\n",
    "        best_f1 = f1\n",
    "        best_threshold = t\n",
    "\n",
    "y_pred = (mse > best_threshold).astype(int)\n",
    "print(\"Best Threshold:\", best_threshold)\n",
    "print(confusion_matrix(y_test, y_pred))\n",
    "print(classification_report(y_test, y_pred))\n",
    "print(\"ROC AUC:\", roc_auc_score(y_test, mse))\n"
   ]
  },
  {
   "cell_type": "code",
   "execution_count": null,
   "id": "a4ae8854",
   "metadata": {},
   "outputs": [],
   "source": [
    "precision, recall, pr_thresholds = precision_recall_curve(y_test, mse)\n",
    "plt.plot(recall, precision)\n",
    "plt.xlabel(\"Recall\")\n",
    "plt.ylabel(\"Precision\")\n",
    "plt.title(\"Precision-Recall Curve\")\n",
    "plt.grid(True)\n",
    "plt.show()\n"
   ]
  },
  {
   "cell_type": "code",
   "execution_count": null,
   "id": "9026ec20",
   "metadata": {},
   "outputs": [],
   "source": [
    "# Isolation Forest\n",
    "iso = IsolationForest(contamination=0.5)\n",
    "y_pred_iso = iso.fit_predict(X_test)\n",
    "y_pred_iso = np.where(y_pred_iso == -1, 1, 0)\n",
    "print(\"\\nIsolation Forest:\")\n",
    "print(classification_report(y_test, y_pred_iso))\n",
    "\n",
    "# One-Class SVM\n",
    "svm = OneClassSVM(nu=0.5, kernel=\"rbf\", gamma='scale')\n",
    "svm.fit(X_train)\n",
    "y_pred_svm = svm.predict(X_test)\n",
    "y_pred_svm = np.where(y_pred_svm == -1, 1, 0)\n",
    "print(\"\\nOne-Class SVM:\")\n",
    "print(classification_report(y_test, y_pred_svm))\n"
   ]
  },
  {
   "cell_type": "code",
   "execution_count": null,
   "id": "a448b3bf",
   "metadata": {},
   "outputs": [],
   "source": [
    "# Optional: VAE\n",
    "class VAE(Model):\n",
    "    def __init__(self, original_dim, intermediate_dim=64, latent_dim=32):\n",
    "        super(VAE, self).__init__()\n",
    "        self.encoder = keras.Sequential([\n",
    "            layers.InputLayer(input_shape=(original_dim,)),\n",
    "            layers.Dense(intermediate_dim, activation='relu'),\n",
    "            layers.Dense(latent_dim + latent_dim)\n",
    "        ])\n",
    "        self.decoder = keras.Sequential([\n",
    "            layers.InputLayer(input_shape=(latent_dim,)),\n",
    "            layers.Dense(intermediate_dim, activation='relu'),\n",
    "            layers.Dense(original_dim, activation='linear')\n",
    "        ])\n",
    "\n",
    "    def call(self, x):\n",
    "        z_mean, z_log_var = tf.split(self.encoder(x), num_or_size_splits=2, axis=1)\n",
    "        epsilon = tf.random.normal(shape=tf.shape(z_mean))\n",
    "        z = z_mean + tf.exp(0.5 * z_log_var) * epsilon\n",
    "        return self.decoder(z)\n",
    "\n",
    "vae = VAE(input_dim)\n",
    "vae.compile(optimizer='adam', loss='mse')\n",
    "vae.fit(X_train, X_train, epochs=30, batch_size=256, validation_split=0.1)\n"
   ]
  }
 ],
 "metadata": {
  "kernelspec": {
   "display_name": "encoenv",
   "language": "python",
   "name": "python3"
  },
  "language_info": {
   "codemirror_mode": {
    "name": "ipython",
    "version": 3
   },
   "file_extension": ".py",
   "mimetype": "text/x-python",
   "name": "python",
   "nbconvert_exporter": "python",
   "pygments_lexer": "ipython3",
   "version": "3.9.13"
  }
 },
 "nbformat": 4,
 "nbformat_minor": 5
}
